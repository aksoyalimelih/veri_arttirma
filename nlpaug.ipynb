{
 "cells": [
  {
   "cell_type": "markdown",
   "id": "65f9ec43-eb00-4661-8f22-c5e981b14c94",
   "metadata": {},
   "source": [
    "https://www.kaggle.com/datasets/praveengovi/emotions-dataset-for-nlp/data?select=val.txt dataset"
   ]
  },
  {
   "cell_type": "markdown",
   "id": "d4e8556e-06ab-4098-b19e-18d9203cce9d",
   "metadata": {},
   "source": [
    "https://github.com/makcedward/nlpaug/blob/master/example/textual_augmenter.ipynb augmenter"
   ]
  },
  {
   "cell_type": "code",
   "execution_count": 1,
   "id": "3c7a72ed-5122-4c62-b36b-245f97a61373",
   "metadata": {
    "collapsed": true,
    "jupyter": {
     "outputs_hidden": true
    },
    "tags": []
   },
   "outputs": [
    {
     "name": "stdout",
     "output_type": "stream",
     "text": [
      "Requirement already satisfied: nlpaug in c:\\users\\kanki\\anaconda3\\lib\\site-packages (1.1.11)\n",
      "Requirement already satisfied: numpy>=1.16.2 in c:\\users\\kanki\\anaconda3\\lib\\site-packages (from nlpaug) (1.24.3)\n",
      "Requirement already satisfied: pandas>=1.2.0 in c:\\users\\kanki\\anaconda3\\lib\\site-packages (from nlpaug) (2.0.3)\n",
      "Requirement already satisfied: requests>=2.22.0 in c:\\users\\kanki\\anaconda3\\lib\\site-packages (from nlpaug) (2.31.0)\n",
      "Requirement already satisfied: gdown>=4.0.0 in c:\\users\\kanki\\anaconda3\\lib\\site-packages (from nlpaug) (5.2.0)\n",
      "Requirement already satisfied: beautifulsoup4 in c:\\users\\kanki\\anaconda3\\lib\\site-packages (from gdown>=4.0.0->nlpaug) (4.12.2)\n",
      "Requirement already satisfied: filelock in c:\\users\\kanki\\anaconda3\\lib\\site-packages (from gdown>=4.0.0->nlpaug) (3.9.0)\n",
      "Requirement already satisfied: tqdm in c:\\users\\kanki\\anaconda3\\lib\\site-packages (from gdown>=4.0.0->nlpaug) (4.65.0)\n",
      "Requirement already satisfied: python-dateutil>=2.8.2 in c:\\users\\kanki\\anaconda3\\lib\\site-packages (from pandas>=1.2.0->nlpaug) (2.8.2)\n",
      "Requirement already satisfied: pytz>=2020.1 in c:\\users\\kanki\\anaconda3\\lib\\site-packages (from pandas>=1.2.0->nlpaug) (2023.3.post1)\n",
      "Requirement already satisfied: tzdata>=2022.1 in c:\\users\\kanki\\anaconda3\\lib\\site-packages (from pandas>=1.2.0->nlpaug) (2023.3)\n",
      "Requirement already satisfied: charset-normalizer<4,>=2 in c:\\users\\kanki\\anaconda3\\lib\\site-packages (from requests>=2.22.0->nlpaug) (2.0.4)\n",
      "Requirement already satisfied: idna<4,>=2.5 in c:\\users\\kanki\\anaconda3\\lib\\site-packages (from requests>=2.22.0->nlpaug) (3.4)\n",
      "Requirement already satisfied: urllib3<3,>=1.21.1 in c:\\users\\kanki\\anaconda3\\lib\\site-packages (from requests>=2.22.0->nlpaug) (1.26.16)\n",
      "Requirement already satisfied: certifi>=2017.4.17 in c:\\users\\kanki\\anaconda3\\lib\\site-packages (from requests>=2.22.0->nlpaug) (2023.7.22)\n",
      "Requirement already satisfied: six>=1.5 in c:\\users\\kanki\\anaconda3\\lib\\site-packages (from python-dateutil>=2.8.2->pandas>=1.2.0->nlpaug) (1.16.0)\n",
      "Requirement already satisfied: soupsieve>1.2 in c:\\users\\kanki\\anaconda3\\lib\\site-packages (from beautifulsoup4->gdown>=4.0.0->nlpaug) (2.4)\n",
      "Requirement already satisfied: PySocks!=1.5.7,>=1.5.6 in c:\\users\\kanki\\anaconda3\\lib\\site-packages (from requests>=2.22.0->nlpaug) (1.7.1)\n",
      "Requirement already satisfied: colorama in c:\\users\\kanki\\anaconda3\\lib\\site-packages (from tqdm->gdown>=4.0.0->nlpaug) (0.4.6)\n"
     ]
    }
   ],
   "source": [
    "!pip install nlpaug"
   ]
  },
  {
   "cell_type": "code",
   "execution_count": 20,
   "id": "57fe17b2-3148-4cb1-8af9-4a28f15723e8",
   "metadata": {},
   "outputs": [],
   "source": [
    "import numpy as np\n",
    "import pandas as pd\n",
    "import nlpaug.augmenter.char as nac\n",
    "import nlpaug.augmenter.word as naw"
   ]
  },
  {
   "cell_type": "code",
   "execution_count": 21,
   "id": "f0d18ccc-90fc-4f3a-89d6-fe5186e552c7",
   "metadata": {
    "tags": []
   },
   "outputs": [],
   "source": [
    "df = pd.read_csv('train.txt', sep = ';', header=None)\n",
    "df.columns = ['text', 'emotion']\n",
    "#Daha sonra augmented cümleleri eklemek için mevcut dataset'in bir kopyası oluşturuldu.\n",
    "df_augmented = df.copy()"
   ]
  },
  {
   "cell_type": "code",
   "execution_count": 22,
   "id": "0498ce8d-20c5-492c-9311-eaa3b279a4eb",
   "metadata": {
    "tags": []
   },
   "outputs": [
    {
     "data": {
      "text/html": [
       "<div>\n",
       "<style scoped>\n",
       "    .dataframe tbody tr th:only-of-type {\n",
       "        vertical-align: middle;\n",
       "    }\n",
       "\n",
       "    .dataframe tbody tr th {\n",
       "        vertical-align: top;\n",
       "    }\n",
       "\n",
       "    .dataframe thead th {\n",
       "        text-align: right;\n",
       "    }\n",
       "</style>\n",
       "<table border=\"1\" class=\"dataframe\">\n",
       "  <thead>\n",
       "    <tr style=\"text-align: right;\">\n",
       "      <th></th>\n",
       "      <th>text</th>\n",
       "      <th>emotion</th>\n",
       "    </tr>\n",
       "  </thead>\n",
       "  <tbody>\n",
       "    <tr>\n",
       "      <th>0</th>\n",
       "      <td>i didnt feel humiliated</td>\n",
       "      <td>sadness</td>\n",
       "    </tr>\n",
       "    <tr>\n",
       "      <th>1</th>\n",
       "      <td>i can go from feeling so hopeless to so damned...</td>\n",
       "      <td>sadness</td>\n",
       "    </tr>\n",
       "    <tr>\n",
       "      <th>2</th>\n",
       "      <td>im grabbing a minute to post i feel greedy wrong</td>\n",
       "      <td>anger</td>\n",
       "    </tr>\n",
       "    <tr>\n",
       "      <th>3</th>\n",
       "      <td>i am ever feeling nostalgic about the fireplac...</td>\n",
       "      <td>love</td>\n",
       "    </tr>\n",
       "    <tr>\n",
       "      <th>4</th>\n",
       "      <td>i am feeling grouchy</td>\n",
       "      <td>anger</td>\n",
       "    </tr>\n",
       "    <tr>\n",
       "      <th>...</th>\n",
       "      <td>...</td>\n",
       "      <td>...</td>\n",
       "    </tr>\n",
       "    <tr>\n",
       "      <th>15995</th>\n",
       "      <td>i just had a very brief time in the beanbag an...</td>\n",
       "      <td>sadness</td>\n",
       "    </tr>\n",
       "    <tr>\n",
       "      <th>15996</th>\n",
       "      <td>i am now turning and i feel pathetic that i am...</td>\n",
       "      <td>sadness</td>\n",
       "    </tr>\n",
       "    <tr>\n",
       "      <th>15997</th>\n",
       "      <td>i feel strong and good overall</td>\n",
       "      <td>joy</td>\n",
       "    </tr>\n",
       "    <tr>\n",
       "      <th>15998</th>\n",
       "      <td>i feel like this was such a rude comment and i...</td>\n",
       "      <td>anger</td>\n",
       "    </tr>\n",
       "    <tr>\n",
       "      <th>15999</th>\n",
       "      <td>i know a lot but i feel so stupid because i ca...</td>\n",
       "      <td>sadness</td>\n",
       "    </tr>\n",
       "  </tbody>\n",
       "</table>\n",
       "<p>16000 rows × 2 columns</p>\n",
       "</div>"
      ],
      "text/plain": [
       "                                                    text  emotion\n",
       "0                                i didnt feel humiliated  sadness\n",
       "1      i can go from feeling so hopeless to so damned...  sadness\n",
       "2       im grabbing a minute to post i feel greedy wrong    anger\n",
       "3      i am ever feeling nostalgic about the fireplac...     love\n",
       "4                                   i am feeling grouchy    anger\n",
       "...                                                  ...      ...\n",
       "15995  i just had a very brief time in the beanbag an...  sadness\n",
       "15996  i am now turning and i feel pathetic that i am...  sadness\n",
       "15997                     i feel strong and good overall      joy\n",
       "15998  i feel like this was such a rude comment and i...    anger\n",
       "15999  i know a lot but i feel so stupid because i ca...  sadness\n",
       "\n",
       "[16000 rows x 2 columns]"
      ]
     },
     "execution_count": 22,
     "metadata": {},
     "output_type": "execute_result"
    }
   ],
   "source": [
    "df"
   ]
  },
  {
   "cell_type": "code",
   "execution_count": 23,
   "id": "250eae77-ffdd-415e-b3a2-1ba21e06d7e9",
   "metadata": {
    "tags": []
   },
   "outputs": [],
   "source": [
    "#Bazı cümleler birden fazla olduğu için aynılar çıkarıldı\n",
    "df.drop_duplicates(subset=['text'],inplace=True,ignore_index=True)\n",
    "df_augmented.drop_duplicates(subset=['text'],inplace=True,ignore_index=True)"
   ]
  },
  {
   "cell_type": "code",
   "execution_count": 24,
   "id": "82a41182-f37e-4ca0-95de-277497892bd5",
   "metadata": {
    "tags": []
   },
   "outputs": [
    {
     "data": {
      "text/plain": [
       "emotion\n",
       "joy         5350\n",
       "sadness     4664\n",
       "anger       2155\n",
       "fear        1933\n",
       "love        1299\n",
       "surprise     568\n",
       "Name: count, dtype: int64"
      ]
     },
     "execution_count": 24,
     "metadata": {},
     "output_type": "execute_result"
    }
   ],
   "source": [
    "df.emotion.value_counts()"
   ]
  },
  {
   "cell_type": "markdown",
   "id": "af021e7c-24cc-4e40-ac4b-8c856299c81d",
   "metadata": {},
   "source": [
    "# Keyboard Augmenter\n",
    "\n",
    "### ChatBot benzeri şeyler için olabilecek klavye typolarının tespiti için kullanılır"
   ]
  },
  {
   "cell_type": "code",
   "execution_count": 25,
   "id": "2db03e41-04e9-4d53-9a01-5300ad2ef4ae",
   "metadata": {
    "tags": []
   },
   "outputs": [],
   "source": [
    "aug = nac.KeyboardAug()\n",
    "for i in range(df[\"text\"].value_counts().sum()):\n",
    "    augmented_text = aug.augment(df['text'][i])\n",
    "    new_row = pd.DataFrame ({\"text\" : augmented_text , \"emotion\" : df[\"emotion\"][i]},index=[0])\n",
    "    df_augmented = pd.concat([df_augmented, new_row],ignore_index = True)"
   ]
  },
  {
   "cell_type": "code",
   "execution_count": 26,
   "id": "1f979ac8-d8d3-464e-b712-8db250253738",
   "metadata": {
    "tags": []
   },
   "outputs": [
    {
     "data": {
      "text/html": [
       "<div>\n",
       "<style scoped>\n",
       "    .dataframe tbody tr th:only-of-type {\n",
       "        vertical-align: middle;\n",
       "    }\n",
       "\n",
       "    .dataframe tbody tr th {\n",
       "        vertical-align: top;\n",
       "    }\n",
       "\n",
       "    .dataframe thead th {\n",
       "        text-align: right;\n",
       "    }\n",
       "</style>\n",
       "<table border=\"1\" class=\"dataframe\">\n",
       "  <thead>\n",
       "    <tr style=\"text-align: right;\">\n",
       "      <th></th>\n",
       "      <th>text</th>\n",
       "      <th>emotion</th>\n",
       "    </tr>\n",
       "  </thead>\n",
       "  <tbody>\n",
       "    <tr>\n",
       "      <th>31933</th>\n",
       "      <td>i i8st had a very brief ^*me in the bexHbat an...</td>\n",
       "      <td>sadness</td>\n",
       "    </tr>\n",
       "    <tr>\n",
       "      <th>31934</th>\n",
       "      <td>i am now 5uEnimg and i teep )a%betic that i am...</td>\n",
       "      <td>sadness</td>\n",
       "    </tr>\n",
       "    <tr>\n",
       "      <th>31935</th>\n",
       "      <td>i feel st#ogg and gloF overall</td>\n",
       "      <td>joy</td>\n",
       "    </tr>\n",
       "    <tr>\n",
       "      <th>31936</th>\n",
       "      <td>i feel like 4Mis was Wucm a rude coNjemt and i...</td>\n",
       "      <td>anger</td>\n",
       "    </tr>\n",
       "    <tr>\n",
       "      <th>31937</th>\n",
       "      <td>i knIS a lot but i f#eI so stupOW bDVakse i ca...</td>\n",
       "      <td>sadness</td>\n",
       "    </tr>\n",
       "  </tbody>\n",
       "</table>\n",
       "</div>"
      ],
      "text/plain": [
       "                                                    text  emotion\n",
       "31933  i i8st had a very brief ^*me in the bexHbat an...  sadness\n",
       "31934  i am now 5uEnimg and i teep )a%betic that i am...  sadness\n",
       "31935                     i feel st#ogg and gloF overall      joy\n",
       "31936  i feel like 4Mis was Wucm a rude coNjemt and i...    anger\n",
       "31937  i knIS a lot but i f#eI so stupOW bDVakse i ca...  sadness"
      ]
     },
     "execution_count": 26,
     "metadata": {},
     "output_type": "execute_result"
    }
   ],
   "source": [
    "df_augmented.tail()"
   ]
  },
  {
   "cell_type": "markdown",
   "id": "537e8381-b2da-45d1-a94b-9d4ef3e7582b",
   "metadata": {},
   "source": [
    "# Spelling Augmenter\n",
    "\n",
    "### Aynı şekilde yazım hataları için kullanılır"
   ]
  },
  {
   "cell_type": "code",
   "execution_count": 27,
   "id": "5c3dfd78-5ef3-4a6f-8348-365347485fe0",
   "metadata": {
    "tags": []
   },
   "outputs": [],
   "source": [
    "aug = naw.SpellingAug()\n",
    "for i in range(df[\"text\"].value_counts().sum()):\n",
    "    augmented_text = aug.augment(df['text'][i],n=3)\n",
    "    for a in range(3):\n",
    "        new_row = pd.DataFrame ({\"text\" : augmented_text[a] , \"emotion\" : df[\"emotion\"][i]},index=[0])\n",
    "        df_augmented = pd.concat([df_augmented, new_row],ignore_index = True)"
   ]
  },
  {
   "cell_type": "code",
   "execution_count": 28,
   "id": "3111a862-510f-4929-9daa-b7e36b20409e",
   "metadata": {
    "tags": []
   },
   "outputs": [
    {
     "data": {
      "text/html": [
       "<div>\n",
       "<style scoped>\n",
       "    .dataframe tbody tr th:only-of-type {\n",
       "        vertical-align: middle;\n",
       "    }\n",
       "\n",
       "    .dataframe tbody tr th {\n",
       "        vertical-align: top;\n",
       "    }\n",
       "\n",
       "    .dataframe thead th {\n",
       "        text-align: right;\n",
       "    }\n",
       "</style>\n",
       "<table border=\"1\" class=\"dataframe\">\n",
       "  <thead>\n",
       "    <tr style=\"text-align: right;\">\n",
       "      <th></th>\n",
       "      <th>text</th>\n",
       "      <th>emotion</th>\n",
       "    </tr>\n",
       "  </thead>\n",
       "  <tbody>\n",
       "    <tr>\n",
       "      <th>79840</th>\n",
       "      <td>i feed like this has such o rude coment [[ann ...</td>\n",
       "      <td>anger</td>\n",
       "    </tr>\n",
       "    <tr>\n",
       "      <th>79841</th>\n",
       "      <td>i feeld like this was cush a rude comment and'...</td>\n",
       "      <td>anger</td>\n",
       "    </tr>\n",
       "    <tr>\n",
       "      <th>79842</th>\n",
       "      <td>i know a lof bout ye feel so stupid because it...</td>\n",
       "      <td>sadness</td>\n",
       "    </tr>\n",
       "    <tr>\n",
       "      <th>79843</th>\n",
       "      <td>i meet a lot but i fill so stupid because l ca...</td>\n",
       "      <td>sadness</td>\n",
       "    </tr>\n",
       "    <tr>\n",
       "      <th>79844</th>\n",
       "      <td>ye know as lot but i feel so stupid because it...</td>\n",
       "      <td>sadness</td>\n",
       "    </tr>\n",
       "  </tbody>\n",
       "</table>\n",
       "</div>"
      ],
      "text/plain": [
       "                                                    text  emotion\n",
       "79840  i feed like this has such o rude coment [[ann ...    anger\n",
       "79841  i feeld like this was cush a rude comment and'...    anger\n",
       "79842  i know a lof bout ye feel so stupid because it...  sadness\n",
       "79843  i meet a lot but i fill so stupid because l ca...  sadness\n",
       "79844  ye know as lot but i feel so stupid because it...  sadness"
      ]
     },
     "execution_count": 28,
     "metadata": {},
     "output_type": "execute_result"
    }
   ],
   "source": [
    "df_augmented.tail()"
   ]
  },
  {
   "cell_type": "markdown",
   "id": "75f97bba-9bf2-463e-b013-9c06c9f4240f",
   "metadata": {},
   "source": [
    "# Synonym Augmenter\n",
    "\n",
    "## WordNet ile bazı kelimeleri eş anlamlılarıyla değiştirerek veriyi çoğaltıyor.\n",
    "\n",
    "### Not: WordNet paketi bu verisetinde güzel çalışmıyor. PPDB paketi ile yapılabilir fakat o paketi de el ile indirmek zorunda olduğumuz için kodu bu şekilde bırakıyorum."
   ]
  },
  {
   "cell_type": "code",
   "execution_count": 29,
   "id": "f3239673-35ee-4a89-8369-bebac947ee4b",
   "metadata": {
    "tags": []
   },
   "outputs": [],
   "source": [
    "aug = naw.SynonymAug(aug_src='wordnet')\n",
    "for i in range(df[\"text\"].value_counts().sum()):\n",
    "    augmented_text = aug.augment(df['text'][i])\n",
    "    new_row = pd.DataFrame ({\"text\" : augmented_text , \"emotion\" : df[\"emotion\"][i]},index=[0])\n",
    "    df_augmented = pd.concat([df_augmented, new_row],ignore_index = True)"
   ]
  },
  {
   "cell_type": "code",
   "execution_count": 30,
   "id": "56e8df95-b3d7-4c36-8fb6-2bab4faeaab0",
   "metadata": {
    "tags": []
   },
   "outputs": [
    {
     "data": {
      "text/html": [
       "<div>\n",
       "<style scoped>\n",
       "    .dataframe tbody tr th:only-of-type {\n",
       "        vertical-align: middle;\n",
       "    }\n",
       "\n",
       "    .dataframe tbody tr th {\n",
       "        vertical-align: top;\n",
       "    }\n",
       "\n",
       "    .dataframe thead th {\n",
       "        text-align: right;\n",
       "    }\n",
       "</style>\n",
       "<table border=\"1\" class=\"dataframe\">\n",
       "  <thead>\n",
       "    <tr style=\"text-align: right;\">\n",
       "      <th></th>\n",
       "      <th>text</th>\n",
       "      <th>emotion</th>\n",
       "    </tr>\n",
       "  </thead>\n",
       "  <tbody>\n",
       "    <tr>\n",
       "      <th>95809</th>\n",
       "      <td>single just had a rattling brief time in the b...</td>\n",
       "      <td>sadness</td>\n",
       "    </tr>\n",
       "    <tr>\n",
       "      <th>95810</th>\n",
       "      <td>i am now turn and i palpate pathetic that i pe...</td>\n",
       "      <td>sadness</td>\n",
       "    </tr>\n",
       "    <tr>\n",
       "      <th>95811</th>\n",
       "      <td>i palpate strong and serious overall</td>\n",
       "      <td>joy</td>\n",
       "    </tr>\n",
       "    <tr>\n",
       "      <th>95812</th>\n",
       "      <td>i feel alike this be such a rude remark and im...</td>\n",
       "      <td>anger</td>\n",
       "    </tr>\n",
       "    <tr>\n",
       "      <th>95813</th>\n",
       "      <td>one do it a hatful but one feel so stupid beca...</td>\n",
       "      <td>sadness</td>\n",
       "    </tr>\n",
       "  </tbody>\n",
       "</table>\n",
       "</div>"
      ],
      "text/plain": [
       "                                                    text  emotion\n",
       "95809  single just had a rattling brief time in the b...  sadness\n",
       "95810  i am now turn and i palpate pathetic that i pe...  sadness\n",
       "95811               i palpate strong and serious overall      joy\n",
       "95812  i feel alike this be such a rude remark and im...    anger\n",
       "95813  one do it a hatful but one feel so stupid beca...  sadness"
      ]
     },
     "execution_count": 30,
     "metadata": {},
     "output_type": "execute_result"
    }
   ],
   "source": [
    "df_augmented.tail()"
   ]
  }
 ],
 "metadata": {
  "kernelspec": {
   "display_name": "Python 3 (ipykernel)",
   "language": "python",
   "name": "python3"
  },
  "language_info": {
   "codemirror_mode": {
    "name": "ipython",
    "version": 3
   },
   "file_extension": ".py",
   "mimetype": "text/x-python",
   "name": "python",
   "nbconvert_exporter": "python",
   "pygments_lexer": "ipython3",
   "version": "3.11.5"
  }
 },
 "nbformat": 4,
 "nbformat_minor": 5
}
